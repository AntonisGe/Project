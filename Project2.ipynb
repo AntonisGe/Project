{
  "nbformat": 4,
  "nbformat_minor": 0,
  "metadata": {
    "colab": {
      "name": "Project",
      "provenance": [],
      "collapsed_sections": []
    },
    "kernelspec": {
      "name": "python3",
      "display_name": "Python 3"
    }
  },
  "cells": [
    {
      "cell_type": "code",
      "metadata": {
        "id": "179wzAryareQ",
        "colab_type": "code",
        "colab": {}
      },
      "source": [
        "import requests\n",
        "from geopy.geocoders import Nominatim\n",
        "CLIENT_ID = 'YHLSQYTPNMPEPCCPAMR2NBXPTD1LVTXVDX0ZDSJCAUAZTPKY'\n",
        "CLIENT_SECRET = ''\n",
        "VERSION = '20191231'"
      ],
      "execution_count": 0,
      "outputs": []
    },
    {
      "cell_type": "markdown",
      "metadata": {
        "id": "ElBlQR8bhFlS",
        "colab_type": "text"
      },
      "source": [
        "# Objective: Deciding if opening next to a competitor is a good idea."
      ]
    },
    {
      "cell_type": "markdown",
      "metadata": {
        "id": "NzBxYeVMtSru",
        "colab_type": "text"
      },
      "source": [
        "## Discussion of the problem"
      ]
    },
    {
      "cell_type": "markdown",
      "metadata": {
        "id": "V6zW7n4Atav2",
        "colab_type": "text"
      },
      "source": [
        "It is good to know for an individual if he should start his cafe next to a competitor or not. On the one hand opening next to a competitor could take away some of the customers, but on the other hand it could help built a reputation that this is a spot with a lot of cafes."
      ]
    },
    {
      "cell_type": "markdown",
      "metadata": {
        "id": "dUQxbdy9tV-2",
        "colab_type": "text"
      },
      "source": [
        "##Discussion of the Data"
      ]
    },
    {
      "cell_type": "markdown",
      "metadata": {
        "id": "epnK-3iquRpF",
        "colab_type": "text"
      },
      "source": [
        "### Finding top SQUARES "
      ]
    },
    {
      "cell_type": "markdown",
      "metadata": {
        "id": "GuQZ44EkhhaB",
        "colab_type": "text"
      },
      "source": [
        "We will examine all non big-chain cafes in Athens, Greece. We will find the number of competitors they have in walking distance and the number of likes they have received."
      ]
    },
    {
      "cell_type": "code",
      "metadata": {
        "id": "5C8wj7_4kSap",
        "colab_type": "code",
        "outputId": "fb94d523-41b6-4061-b254-a0de58cd69db",
        "colab": {
          "base_uri": "https://localhost:8080/",
          "height": 36
        }
      },
      "source": [
        "#find the adrees of Athens\n",
        "\n",
        "address='Athens,Greece'\n",
        "\n",
        "geolocator = Nominatim(user_agent=\"ny_explorer\")\n",
        "location = geolocator.geocode(address)\n",
        "lat = location.latitude\n",
        "lng = location.longitude\n",
        "print('The geograpical coordinate of {} are {}, {}.'.format(address,lat, lng))"
      ],
      "execution_count": 0,
      "outputs": [
        {
          "output_type": "stream",
          "text": [
            "The geograpical coordinate of Athens,Greece are 37.9841493, 23.7279843.\n"
          ],
          "name": "stdout"
        }
      ]
    },
    {
      "cell_type": "code",
      "metadata": {
        "id": "ncYsONKZhaOw",
        "colab_type": "code",
        "colab": {}
      },
      "source": [
        "#First create a function that returns the requests we make. \n",
        "def explore(lat,lng,rad=500,query='cafe'):\n",
        "  url = 'https://api.foursquare.com/v2/venues/explore?&client_id={}&client_secret={}&v={}&ll={},{}&radius={}&limit=100&query={}'.format(\n",
        "              CLIENT_ID, \n",
        "              CLIENT_SECRET, \n",
        "              VERSION, \n",
        "              lat, \n",
        "              lng, \n",
        "              rad, \n",
        "              query)\n",
        "  return(requests.get(url).json())"
      ],
      "execution_count": 0,
      "outputs": []
    },
    {
      "cell_type": "code",
      "metadata": {
        "id": "n1EGj6FrkHG_",
        "colab_type": "code",
        "colab": {}
      },
      "source": [
        "a=explore(lat,lng,rad=50000,query='square')# it will return the 100 biggest squares around Athens Greece"
      ],
      "execution_count": 0,
      "outputs": []
    },
    {
      "cell_type": "code",
      "metadata": {
        "id": "7iDzkX2UoNWX",
        "colab_type": "code",
        "outputId": "e830aebd-0d95-4634-8562-9fb8d9a11f76",
        "colab": {
          "base_uri": "https://localhost:8080/",
          "height": 36
        }
      },
      "source": [
        "#Now we want to return some information about those neighborhoods. For example \n",
        "ExampleLat=a['response']['groups'][0]['items'][0]['venue']['location']['lat']\n",
        "ExampleLng=a['response']['groups'][0]['items'][0]['venue']['location']['lng']\n",
        "ExampleName=a['response']['groups'][0]['items'][0]['venue']['name']\n",
        "ExampleId=a['response']['groups'][0]['items'][0]['venue']['id']\n",
        "print(\"This is an example of square: {} with id: {} and lat={} and lng={}\".format(ExampleName,ExampleId,ExampleLat,ExampleLng))"
      ],
      "execution_count": 0,
      "outputs": [
        {
          "output_type": "stream",
          "text": [
            "This is an example of square: Syntagma Square (Πλατεία Συντάγματος) with id: 4af2b016f964a5203de821e3 and lat=37.97550264113301 and lng=23.73447054266217\n"
          ],
          "name": "stdout"
        }
      ]
    },
    {
      "cell_type": "code",
      "metadata": {
        "id": "7GAbKBB4qc31",
        "colab_type": "code",
        "colab": {}
      },
      "source": [
        "# in similar way I will retrieve the data for all the squares."
      ],
      "execution_count": 0,
      "outputs": []
    },
    {
      "cell_type": "markdown",
      "metadata": {
        "id": "zGqhN4cXqpdW",
        "colab_type": "text"
      },
      "source": [
        "### Now we want as many coffee shops next to these squares as possible"
      ]
    },
    {
      "cell_type": "markdown",
      "metadata": {
        "id": "p6LCOxHerCSA",
        "colab_type": "text"
      },
      "source": [
        "This is an example"
      ]
    },
    {
      "cell_type": "code",
      "metadata": {
        "id": "UBI9eMQlq301",
        "colab_type": "code",
        "colab": {}
      },
      "source": [
        "#To retrieve them we use the same function as above\n",
        "b=explore(ExampleLat,ExampleLng,rad=3000,query='cafe') # returns 100 cafes around the Example Square"
      ],
      "execution_count": 0,
      "outputs": []
    },
    {
      "cell_type": "code",
      "metadata": {
        "id": "iasqrlB4rPWd",
        "colab_type": "code",
        "colab": {}
      },
      "source": [
        "ExampleCafe=b['response']['groups'][0]['items'][2]"
      ],
      "execution_count": 0,
      "outputs": []
    },
    {
      "cell_type": "markdown",
      "metadata": {
        "id": "YK41upYCtA2V",
        "colab_type": "text"
      },
      "source": [
        "I will remove the big chain cafes"
      ]
    },
    {
      "cell_type": "code",
      "metadata": {
        "id": "yTl2z7UPrP6W",
        "colab_type": "code",
        "outputId": "9b382bcb-a682-48da-d334-8d3bb9a8f994",
        "colab": {
          "base_uri": "https://localhost:8080/",
          "height": 36
        }
      },
      "source": [
        "#Now some data that will be usefull\n",
        "ExampleCafeName=ExampleCafe['venue']['name']\n",
        "ExampleCafeId=ExampleCafe['venue']['id']\n",
        "ExampleCafeLat=ExampleCafe['venue']['location']['lat']\n",
        "ExampleCafeLng=ExampleCafe['venue']['location']['lng']\n",
        "print('The example cafe name is {} with id {} and lat={} and lng={}'.format(ExampleCafeName,ExampleCafeId,ExampleCafeLat,ExampleCafeLng))"
      ],
      "execution_count": 0,
      "outputs": [
        {
          "output_type": "stream",
          "text": [
            "The example cafe name is Peek A Bloom with id 591b2f679411f24fe8a7dbe2 and lat=37.97689226194752 and lng=23.73206453976434\n"
          ],
          "name": "stdout"
        }
      ]
    },
    {
      "cell_type": "markdown",
      "metadata": {
        "id": "Xjm77NiKPfa-",
        "colab_type": "text"
      },
      "source": [
        "###Now we want the cafes close to our cafes."
      ]
    },
    {
      "cell_type": "markdown",
      "metadata": {
        "id": "T5bCfBqtPmjV",
        "colab_type": "text"
      },
      "source": [
        "There is a problem though. The api will return only up to 5 results if we use the 'similar' endpoint which is meant to return the similar venues around our venue."
      ]
    },
    {
      "cell_type": "markdown",
      "metadata": {
        "id": "BEwGeRlnP6xH",
        "colab_type": "text"
      },
      "source": [
        "We will work around it though and call the explore function to search the cafes nearby (20meters) around the coordinates of our cafe."
      ]
    },
    {
      "cell_type": "code",
      "metadata": {
        "id": "7hZca6zrPkwD",
        "colab_type": "code",
        "colab": {}
      },
      "source": [
        "#As an example\n",
        "c=explore(ExampleCafeLat,ExampleCafeLng,rad=20,query='cafe')"
      ],
      "execution_count": 0,
      "outputs": []
    },
    {
      "cell_type": "code",
      "metadata": {
        "id": "6MjY7QtXQXkE",
        "colab_type": "code",
        "outputId": "9ce4a89c-19ea-4961-d764-6e3923b91472",
        "colab": {
          "base_uri": "https://localhost:8080/",
          "height": 73
        }
      },
      "source": [
        "#This cafe has only 3 cafes next to it!\n",
        "for i in range(1,4):\n",
        "  print(c['response']['groups'][0]['items'][i]['venue']['name'])"
      ],
      "execution_count": 0,
      "outputs": [
        {
          "output_type": "stream",
          "text": [
            "Αμπάριζα\n",
            "Rabbithole Bar\n",
            "ΑΡΤΙΖΑΝ\n"
          ],
          "name": "stdout"
        }
      ]
    },
    {
      "cell_type": "markdown",
      "metadata": {
        "id": "7BPdq05wRueY",
        "colab_type": "text"
      },
      "source": [
        "# And that is how I will collect all the data needed for my project! Thank you!"
      ]
    },
    {
      "cell_type": "code",
      "metadata": {
        "id": "cNJFsuK5R18C",
        "colab_type": "code",
        "colab": {}
      },
      "source": [
        ""
      ],
      "execution_count": 0,
      "outputs": []
    }
  ]
}